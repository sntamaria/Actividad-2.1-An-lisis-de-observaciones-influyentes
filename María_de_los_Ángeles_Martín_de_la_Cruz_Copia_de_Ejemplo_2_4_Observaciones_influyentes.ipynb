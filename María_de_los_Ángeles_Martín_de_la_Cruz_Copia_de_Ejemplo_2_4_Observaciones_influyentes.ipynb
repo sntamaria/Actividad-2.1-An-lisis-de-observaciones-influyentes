{
  "nbformat": 4,
  "nbformat_minor": 0,
  "metadata": {
    "colab": {
      "provenance": []
    },
    "kernelspec": {
      "name": "python3",
      "display_name": "Python 3"
    },
    "language_info": {
      "name": "python"
    }
  },
  "cells": [
    {
      "cell_type": "markdown",
      "source": [
        "# M.ª de los Ángeles Martín de la Cruz"
      ],
      "metadata": {
        "id": "f6dso_yKXj0C"
      }
    },
    {
      "cell_type": "markdown",
      "metadata": {
        "id": "JNlEk7ihS-5l"
      },
      "source": [
        "# **Ejemplo 2_4:** Determinación de observaciones influyentes: método de jackknife\n",
        "\n",
        "24_25\n",
        "\n",
        "---\n",
        "\n"
      ]
    },
    {
      "cell_type": "markdown",
      "metadata": {
        "id": "xqnJ20FMVhDE"
      },
      "source": [
        "**PROBLEMA**: Queremos averiguar si existe algún dato  influyente para los procedimientos estadísticos de calcular la **media** y la **mediana**.\n",
        "> Vamos a generar una muestra simulando los ingresos de un barrio/población. Supongamos que hay un vecino con unos ingresos signficativamente altos.\n",
        "\n"
      ]
    },
    {
      "cell_type": "code",
      "source": [
        "# LIBRERÍAS EMPLEADAS EN EL EJEMPLO\n",
        "# Tratamiento de datos\n",
        "# ==============================================================================\n",
        "import numpy as np\n",
        "import pandas as pd\n",
        "\n",
        "# Generación de datos\n",
        "# ==============================================================================\n",
        "# Generamos (100 elementos) ingresos uniformemente distribuidos en [15000,25000]\n",
        "datos = 15000+np.random.rand(100)*10000\n",
        "datos_ord = datos\n",
        "datos_ord.sort()\n",
        "datos"
      ],
      "metadata": {
        "id": "e6NC0HJ7Tl4Q",
        "colab": {
          "base_uri": "https://localhost:8080/"
        },
        "outputId": "90d9cd2a-aa60-42f2-e75f-c0059bb30ae4"
      },
      "execution_count": null,
      "outputs": [
        {
          "output_type": "execute_result",
          "data": {
            "text/plain": [
              "array([15086.48193632, 15285.37787077, 15295.15791884, 15331.97603901,\n",
              "       15430.46986959, 15539.14313435, 15698.5083135 , 15789.3363136 ,\n",
              "       15885.48737529, 15983.41342126, 16141.63718199, 16184.38778775,\n",
              "       16297.81093975, 16422.40775308, 16426.96070612, 16527.04134189,\n",
              "       16709.15906666, 16941.98247629, 17042.50560427, 17046.40637667,\n",
              "       17057.76161035, 17086.33532948, 17145.98727502, 17410.0337853 ,\n",
              "       17567.18809617, 17596.60905522, 17604.39695944, 17647.08661909,\n",
              "       17957.23273395, 18339.61954793, 18411.00022359, 18510.62496332,\n",
              "       18747.88473336, 19047.59461806, 19081.9346438 , 19107.04971013,\n",
              "       19241.99460681, 19296.82858111, 19299.60658355, 19361.96058497,\n",
              "       19426.826941  , 19434.56324369, 19459.34816103, 19520.70658694,\n",
              "       19804.1896137 , 20194.77681806, 20336.27859886, 20369.32679639,\n",
              "       20420.00307873, 20527.24681931, 20533.95491609, 20555.32841676,\n",
              "       20577.27742653, 20626.45700854, 20674.91629169, 20718.98134425,\n",
              "       20755.94711796, 20917.0698037 , 21070.04720376, 21185.11326785,\n",
              "       21396.84235385, 21474.04037186, 21716.7374087 , 21826.97384854,\n",
              "       21968.92194016, 22009.18442574, 22043.78079373, 22174.50168363,\n",
              "       22206.60160179, 22350.04298863, 22446.80675999, 22465.07100286,\n",
              "       22618.31849039, 22929.79125235, 22939.67808785, 22981.8198231 ,\n",
              "       23234.57411136, 23500.02402747, 23501.55208736, 23661.79350581,\n",
              "       23670.58530313, 23779.50274609, 23961.04370662, 23962.31277585,\n",
              "       23968.61606566, 24057.93124082, 24206.4610744 , 24250.59387302,\n",
              "       24352.02152742, 24403.40330582, 24403.61519987, 24510.31243581,\n",
              "       24517.22579163, 24539.98887978, 24554.05335952, 24564.68444628,\n",
              "       24591.0793641 , 24642.92527941, 24861.76428797, 24871.4162209 ])"
            ]
          },
          "metadata": {},
          "execution_count": 24
        }
      ]
    },
    {
      "cell_type": "markdown",
      "source": [
        "**Ejercicio**: Calcular la media y la mediana antes de realizar la modificación de incluir unos ingresos de 500.000€"
      ],
      "metadata": {
        "id": "ayRFJ682gR2B"
      }
    },
    {
      "cell_type": "code",
      "source": [
        "# Calculo de la media y la mediana antes del cambio.\n",
        "media_antes=  np.mean(datos)\n",
        "mediana_antes=  np.median (datos) # Es el valor central cuando los datos se ordenan\n",
        "print(f\" Media= {media_antes} y Mediana={mediana_antes}\")\n",
        "\n",
        "# Resumen estadístico antes del cambio\n",
        "df = pd.DataFrame(datos, columns=[\"Ingresos\"])\n",
        "resumen_antes = df.describe()\n",
        "print(\"\\nResumen estadístico antes del cambio:\\n\", resumen_antes)"
      ],
      "metadata": {
        "id": "hLSCLjhZRp3F",
        "colab": {
          "base_uri": "https://localhost:8080/"
        },
        "outputId": "48d7cc60-5c08-4c5d-8ff8-a766d31cc46d"
      },
      "execution_count": null,
      "outputs": [
        {
          "output_type": "stream",
          "name": "stdout",
          "text": [
            " Media= 20298.093345917856 y Mediana=20530.600867699985\n",
            "\n",
            "Resumen estadístico antes del cambio:\n",
            "            Ingresos\n",
            "count    100.000000\n",
            "mean   20298.093346\n",
            "std     3014.556289\n",
            "min    15086.481936\n",
            "25%    17589.253815\n",
            "50%    20530.600868\n",
            "75%    22950.213522\n",
            "max    24871.416221\n"
          ]
        }
      ]
    },
    {
      "cell_type": "code",
      "metadata": {
        "id": "K3PddQTzeSbe",
        "colab": {
          "base_uri": "https://localhost:8080/"
        },
        "outputId": "35adaf7c-5610-45aa-8303-492db9c21ff7"
      },
      "source": [
        "# Simulamos (porque se lo asignamos en la siguiente línea) que el vecino 50 tiene unos ingresos significativamente mayores que el resto\n",
        "datos[50]=500000\n",
        "datos"
      ],
      "execution_count": null,
      "outputs": [
        {
          "output_type": "execute_result",
          "data": {
            "text/plain": [
              "array([ 15086.48193632,  15285.37787077,  15295.15791884,  15331.97603901,\n",
              "        15430.46986959,  15539.14313435,  15698.5083135 ,  15789.3363136 ,\n",
              "        15885.48737529,  15983.41342126,  16141.63718199,  16184.38778775,\n",
              "        16297.81093975,  16422.40775308,  16426.96070612,  16527.04134189,\n",
              "        16709.15906666,  16941.98247629,  17042.50560427,  17046.40637667,\n",
              "        17057.76161035,  17086.33532948,  17145.98727502,  17410.0337853 ,\n",
              "        17567.18809617,  17596.60905522,  17604.39695944,  17647.08661909,\n",
              "        17957.23273395,  18339.61954793,  18411.00022359,  18510.62496332,\n",
              "        18747.88473336,  19047.59461806,  19081.9346438 ,  19107.04971013,\n",
              "        19241.99460681,  19296.82858111,  19299.60658355,  19361.96058497,\n",
              "        19426.826941  ,  19434.56324369,  19459.34816103,  19520.70658694,\n",
              "        19804.1896137 ,  20194.77681806,  20336.27859886,  20369.32679639,\n",
              "        20420.00307873,  20527.24681931, 500000.        ,  20555.32841676,\n",
              "        20577.27742653,  20626.45700854,  20674.91629169,  20718.98134425,\n",
              "        20755.94711796,  20917.0698037 ,  21070.04720376,  21185.11326785,\n",
              "        21396.84235385,  21474.04037186,  21716.7374087 ,  21826.97384854,\n",
              "        21968.92194016,  22009.18442574,  22043.78079373,  22174.50168363,\n",
              "        22206.60160179,  22350.04298863,  22446.80675999,  22465.07100286,\n",
              "        22618.31849039,  22929.79125235,  22939.67808785,  22981.8198231 ,\n",
              "        23234.57411136,  23500.02402747,  23501.55208736,  23661.79350581,\n",
              "        23670.58530313,  23779.50274609,  23961.04370662,  23962.31277585,\n",
              "        23968.61606566,  24057.93124082,  24206.4610744 ,  24250.59387302,\n",
              "        24352.02152742,  24403.40330582,  24403.61519987,  24510.31243581,\n",
              "        24517.22579163,  24539.98887978,  24554.05335952,  24564.68444628,\n",
              "        24591.0793641 ,  24642.92527941,  24861.76428797,  24871.4162209 ])"
            ]
          },
          "metadata": {},
          "execution_count": 26
        }
      ]
    },
    {
      "cell_type": "markdown",
      "metadata": {
        "id": "iba-kYjPgMR6"
      },
      "source": [
        "Cálculo de media y mediana en toda la muestra"
      ]
    },
    {
      "cell_type": "code",
      "metadata": {
        "colab": {
          "base_uri": "https://localhost:8080/"
        },
        "id": "V-xhWMdvdf1H",
        "outputId": "efb00ddf-5680-4862-ff77-15038066f461"
      },
      "source": [
        "media=  np.mean(datos)\n",
        "mediana=  np.median (datos) # Es el valor central cuando los datos se ordenan\n",
        "print(f\" Media= {media} y Mediana={mediana}\")"
      ],
      "execution_count": null,
      "outputs": [
        {
          "output_type": "stream",
          "name": "stdout",
          "text": [
            " Media= 25092.75379675695 y Mediana=20541.287618033813\n"
          ]
        }
      ]
    },
    {
      "cell_type": "markdown",
      "metadata": {
        "id": "Ippzu4RWYVMr"
      },
      "source": [
        "Notar que los ingresos del barrio son aprox. 20000 euros (Mediana). El hecho que se haya trasladado un vecino rico ha incrementando aprox. en 5000 euros la media. La mediana es insensible a este hecho. Se trata de identificar que datos son influyentess para los dos procedimientos estadísticos"
      ]
    },
    {
      "cell_type": "markdown",
      "source": [
        "Ejercicio: Aplicar el método de describe para ver un resumen estadístico de los datos."
      ],
      "metadata": {
        "id": "6Ys0YA6d1F2k"
      }
    },
    {
      "cell_type": "code",
      "source": [
        "import numpy as np\n",
        "import pandas as pd\n",
        "\n",
        "# Resumen estadístico:\n",
        "df_despues = pd.DataFrame(datos, columns=[\"Ingresos\"])\n",
        "resumen_despues = df_despues.describe()\n",
        "print(\"\\nResumen estadístico después del cambio:\\n\", resumen_despues)\n"
      ],
      "metadata": {
        "id": "8UZKgwmC1Q9L",
        "colab": {
          "base_uri": "https://localhost:8080/"
        },
        "outputId": "1e6a0272-2b60-487a-8670-d7092418ff4e"
      },
      "execution_count": null,
      "outputs": [
        {
          "output_type": "stream",
          "name": "stdout",
          "text": [
            "\n",
            "Resumen estadístico después del cambio:\n",
            "             Ingresos\n",
            "count     100.000000\n",
            "mean    25092.753797\n",
            "std     48065.050003\n",
            "min     15086.481936\n",
            "25%     17589.253815\n",
            "50%     20541.287618\n",
            "75%     23045.008395\n",
            "max    500000.000000\n",
            "std= 47824.120916684034\n"
          ]
        }
      ]
    },
    {
      "cell_type": "markdown",
      "source": [
        "**Ejercicio**: Aplicar el método de Probabilidad global, para detectar los outliers utilizado en el ejemplo 2_3_Outliers"
      ],
      "metadata": {
        "id": "KWZNffk-f-Aq"
      }
    },
    {
      "cell_type": "code",
      "source": [
        "# Tratamiento estadístico\n",
        "# ==============================================================================\n",
        "import scipy.stats as st\n",
        "import matplotlib.pyplot as plt\n",
        "\n",
        "#df_despues = pd.DataFrame(datos, columns=[\"Ingresos\"])\n",
        "#std_pandas_poblacional = df_despues[\"Ingresos\"].std(ddof=0) #Lo pongo a 0 para quitarle el 1 que pone panda de forma automática, así tenemos la desviación típica poblacional\n",
        "\n",
        "std = np.std(datos)\n",
        "\n",
        "# Generación de datos de ingresos\n",
        "mu, sigma = media, std  # Media y desviación típica de los ingresos\n",
        "\n",
        "# Probabilidad de la muestra de estar dentro de las bandas (95%)\n",
        "p_g = 0.95\n",
        "# Cálculo del valor alfa, que es la probabilidad global ajustada\n",
        "alfa_g = (1 - p_g) / 2\n",
        "# Ajuste para obtener una probabilidad más precisa para cada dato\n",
        "alfa = 1 - (1 - alfa_g)**(1 / len(datos))  # Corrección para aumentar la precisión\n",
        "# Calculamos el valor Z correspondiente a alfa\n",
        "Z_alfa = st.norm.ppf(1 - alfa / 2)\n",
        "\n",
        "# Imprimir los resultados\n",
        "alfa = round(alfa, 5)\n",
        "Z_alfa = round(Z_alfa, 5)\n",
        "print(f\"Alfa = {alfa}\")\n",
        "print(f\"Z_alfa = {Z_alfa}\")\n",
        "\n",
        "# Calculamos las bandas de confianza (media +/- Z_alfa * desviación estándar)\n",
        "xL = round(np.mean(datos) - Z_alfa * np.std(datos), 4)  # Límite inferior\n",
        "xU = round(np.mean(datos) + Z_alfa * np.std(datos), 4)  # Límite superior\n",
        "print(f\"Banda = [{xL}, {xU}]\")\n",
        "\n",
        "# Detectamos los outliers que caen fuera de las bandas\n",
        "for i in range(len(datos)):\n",
        "    if datos[i] < xL or datos[i] > xU:\n",
        "        print(f\"El dato[{i}] = {datos[i]} es un outlier\")\n"
      ],
      "metadata": {
        "id": "c2KHLLQg0b4r",
        "colab": {
          "base_uri": "https://localhost:8080/"
        },
        "outputId": "4245dc7b-ce40-4075-b45f-acb94bfa5dd9"
      },
      "execution_count": null,
      "outputs": [
        {
          "output_type": "stream",
          "name": "stdout",
          "text": [
            "Alfa = 0.00025\n",
            "Z_alfa = 3.65906\n",
            "Banda = [-149898.5741, 200084.0817]\n",
            "El dato[50] = 500000.0 es un outlier\n"
          ]
        }
      ]
    },
    {
      "cell_type": "markdown",
      "metadata": {
        "id": "pBsJTzKHUegV"
      },
      "source": [
        "Otra forma de detactar los outliers\n",
        "\n",
        "**Método :**  Detectemos los outlier de phi medinate el método Jackknife y a continuación aplicamos el método de la distancia entre Quartiles"
      ]
    },
    {
      "cell_type": "code",
      "metadata": {
        "id": "Aa2N8m89Y4mN",
        "colab": {
          "base_uri": "https://localhost:8080/"
        },
        "outputId": "eb3390d1-04ae-4a1f-b5e2-f53d65d5d66c"
      },
      "source": [
        "phi=np.zeros(len(datos)) # phi es un array de la misma longitud que datos pero con el valor cero en cada una de sus posiciones\n",
        "# En el bucle lo que se realiza es el método Jackknife, es decir, prepara los datos para realizar un análisis estadístico sin el dato i.\n",
        "# Para ello, calcula la media de todos los elementos excluyendo el elemento de la posición i que está procesando en el bucle.\n",
        "# De forma que obtiene un índice de calidad del modelo para cada uno de los elementos\n",
        "for i in  range(len(datos)):\n",
        "  datos_aux=datos\n",
        "  datos_sin_i=np.delete(datos_aux, i)\n",
        "  phi[i]=np.mean(datos_sin_i)\n",
        "phi"
      ],
      "execution_count": null,
      "outputs": [
        {
          "output_type": "execute_result",
          "data": {
            "text/plain": [
              "array([25193.82724989, 25191.81820005, 25191.71941169, 25191.34751148,\n",
              "       25190.3526243 , 25189.25491456, 25187.64516527, 25186.72771073,\n",
              "       25185.75648788, 25184.7673359 , 25183.1691161 , 25182.7372918 ,\n",
              "       25181.59160339, 25180.33304972, 25180.2870603 , 25179.27614479,\n",
              "       25177.43657181, 25175.0848202 , 25174.06943506, 25174.03003332,\n",
              "       25173.91533399, 25173.62671057, 25173.02416566, 25170.3570292 ,\n",
              "       25168.76961191, 25168.47243051, 25168.39376481, 25167.96255613,\n",
              "       25164.82976709, 25160.96727402, 25160.24625709, 25159.23994659,\n",
              "       25156.84338326, 25153.81601068, 25153.46914174, 25153.2154542 ,\n",
              "       25151.85237443, 25151.2984959 , 25151.27043527, 25150.64059688,\n",
              "       25149.98538116, 25149.90723669, 25149.65688399, 25149.03710191,\n",
              "       25146.17363699, 25142.22831169, 25140.79900078, 25140.4651806 ,\n",
              "       25139.95329896, 25138.87002885, 20295.71090582, 25138.58637635,\n",
              "       25138.36466918, 25137.86790573, 25137.37841802, 25136.93331648,\n",
              "       25136.55992483, 25134.93242295, 25133.38719669, 25132.22491321,\n",
              "       25130.08623557, 25129.30645761, 25126.85497239, 25125.741473  ,\n",
              "       25124.30765389, 25123.90096212, 25123.55150386, 25122.23109083,\n",
              "       25121.90684923, 25120.45794633, 25119.4805345 , 25119.2960472 ,\n",
              "       25117.74809278, 25114.60190327, 25114.50203624, 25114.07636215,\n",
              "       25111.52328853, 25108.84197624, 25108.8265413 , 25107.20794111,\n",
              "       25107.11913508, 25106.01895888, 25104.18521181, 25104.17239293,\n",
              "       25104.10872333, 25103.20654985, 25101.7062485 , 25101.26046265,\n",
              "       25100.23594089, 25099.71693303, 25099.71479269, 25098.63704283,\n",
              "       25098.56721095, 25098.33728077, 25098.19521531, 25098.0878306 ,\n",
              "       25097.82121527, 25097.29751915, 25095.08702412, 25094.98952985])"
            ]
          },
          "metadata": {},
          "execution_count": 32
        }
      ]
    },
    {
      "cell_type": "markdown",
      "source": [
        "![image.png](data:image/png;base64,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)"
      ],
      "metadata": {
        "id": "BY__yZvc2hi_"
      }
    },
    {
      "cell_type": "code",
      "metadata": {
        "colab": {
          "base_uri": "https://localhost:8080/"
        },
        "id": "02SEYuHJ-iol",
        "outputId": "abf1e2fb-3b2d-4bec-c0f8-54c9e19a4e80"
      },
      "source": [
        "# Aplicamos el método de la distancia entre cuartiles, en este caso, al aplicar el método Jackknife no obtenemos\n",
        "# el valor del elemento que es considerado Outlier, sino la posición del mismo.\n",
        "Q1 = np.quantile(phi,0.25)\n",
        "Q3 = np.quantile(phi,0.75)\n",
        "IQR = Q3 - Q1\n",
        "xL=Q1 - 1.5 * IQR\n",
        "xU=Q3 + 1.5 * IQR\n",
        "for i in  range(len(datos)):\n",
        "        if phi[i] < xL  or phi[i]>xU:\n",
        "          print(f\" El dato {i} es una observación influyente para la media\")"
      ],
      "execution_count": null,
      "outputs": [
        {
          "output_type": "stream",
          "name": "stdout",
          "text": [
            " El dato 50 es una observación influyente para la media\n"
          ]
        }
      ]
    },
    {
      "cell_type": "code",
      "source": [
        "pd.DataFrame(phi).describe()"
      ],
      "metadata": {
        "colab": {
          "base_uri": "https://localhost:8080/",
          "height": 300
        },
        "id": "CEffUKlZ9I7z",
        "outputId": "b2d12373-95cc-41b2-d7d1-ae31f6cb70c6"
      },
      "execution_count": null,
      "outputs": [
        {
          "output_type": "execute_result",
          "data": {
            "text/plain": [
              "                  0\n",
              "count    100.000000\n",
              "mean   25092.753797\n",
              "std      485.505556\n",
              "min    20295.710906\n",
              "25%    25113.438094\n",
              "50%    25138.728203\n",
              "75%    25168.546726\n",
              "max    25193.827250"
            ],
            "text/html": [
              "\n",
              "  <div id=\"df-0247e750-08d3-4ec4-a612-8e10dee314de\" class=\"colab-df-container\">\n",
              "    <div>\n",
              "<style scoped>\n",
              "    .dataframe tbody tr th:only-of-type {\n",
              "        vertical-align: middle;\n",
              "    }\n",
              "\n",
              "    .dataframe tbody tr th {\n",
              "        vertical-align: top;\n",
              "    }\n",
              "\n",
              "    .dataframe thead th {\n",
              "        text-align: right;\n",
              "    }\n",
              "</style>\n",
              "<table border=\"1\" class=\"dataframe\">\n",
              "  <thead>\n",
              "    <tr style=\"text-align: right;\">\n",
              "      <th></th>\n",
              "      <th>0</th>\n",
              "    </tr>\n",
              "  </thead>\n",
              "  <tbody>\n",
              "    <tr>\n",
              "      <th>count</th>\n",
              "      <td>100.000000</td>\n",
              "    </tr>\n",
              "    <tr>\n",
              "      <th>mean</th>\n",
              "      <td>25092.753797</td>\n",
              "    </tr>\n",
              "    <tr>\n",
              "      <th>std</th>\n",
              "      <td>485.505556</td>\n",
              "    </tr>\n",
              "    <tr>\n",
              "      <th>min</th>\n",
              "      <td>20295.710906</td>\n",
              "    </tr>\n",
              "    <tr>\n",
              "      <th>25%</th>\n",
              "      <td>25113.438094</td>\n",
              "    </tr>\n",
              "    <tr>\n",
              "      <th>50%</th>\n",
              "      <td>25138.728203</td>\n",
              "    </tr>\n",
              "    <tr>\n",
              "      <th>75%</th>\n",
              "      <td>25168.546726</td>\n",
              "    </tr>\n",
              "    <tr>\n",
              "      <th>max</th>\n",
              "      <td>25193.827250</td>\n",
              "    </tr>\n",
              "  </tbody>\n",
              "</table>\n",
              "</div>\n",
              "    <div class=\"colab-df-buttons\">\n",
              "\n",
              "  <div class=\"colab-df-container\">\n",
              "    <button class=\"colab-df-convert\" onclick=\"convertToInteractive('df-0247e750-08d3-4ec4-a612-8e10dee314de')\"\n",
              "            title=\"Convert this dataframe to an interactive table.\"\n",
              "            style=\"display:none;\">\n",
              "\n",
              "  <svg xmlns=\"http://www.w3.org/2000/svg\" height=\"24px\" viewBox=\"0 -960 960 960\">\n",
              "    <path d=\"M120-120v-720h720v720H120Zm60-500h600v-160H180v160Zm220 220h160v-160H400v160Zm0 220h160v-160H400v160ZM180-400h160v-160H180v160Zm440 0h160v-160H620v160ZM180-180h160v-160H180v160Zm440 0h160v-160H620v160Z\"/>\n",
              "  </svg>\n",
              "    </button>\n",
              "\n",
              "  <style>\n",
              "    .colab-df-container {\n",
              "      display:flex;\n",
              "      gap: 12px;\n",
              "    }\n",
              "\n",
              "    .colab-df-convert {\n",
              "      background-color: #E8F0FE;\n",
              "      border: none;\n",
              "      border-radius: 50%;\n",
              "      cursor: pointer;\n",
              "      display: none;\n",
              "      fill: #1967D2;\n",
              "      height: 32px;\n",
              "      padding: 0 0 0 0;\n",
              "      width: 32px;\n",
              "    }\n",
              "\n",
              "    .colab-df-convert:hover {\n",
              "      background-color: #E2EBFA;\n",
              "      box-shadow: 0px 1px 2px rgba(60, 64, 67, 0.3), 0px 1px 3px 1px rgba(60, 64, 67, 0.15);\n",
              "      fill: #174EA6;\n",
              "    }\n",
              "\n",
              "    .colab-df-buttons div {\n",
              "      margin-bottom: 4px;\n",
              "    }\n",
              "\n",
              "    [theme=dark] .colab-df-convert {\n",
              "      background-color: #3B4455;\n",
              "      fill: #D2E3FC;\n",
              "    }\n",
              "\n",
              "    [theme=dark] .colab-df-convert:hover {\n",
              "      background-color: #434B5C;\n",
              "      box-shadow: 0px 1px 3px 1px rgba(0, 0, 0, 0.15);\n",
              "      filter: drop-shadow(0px 1px 2px rgba(0, 0, 0, 0.3));\n",
              "      fill: #FFFFFF;\n",
              "    }\n",
              "  </style>\n",
              "\n",
              "    <script>\n",
              "      const buttonEl =\n",
              "        document.querySelector('#df-0247e750-08d3-4ec4-a612-8e10dee314de button.colab-df-convert');\n",
              "      buttonEl.style.display =\n",
              "        google.colab.kernel.accessAllowed ? 'block' : 'none';\n",
              "\n",
              "      async function convertToInteractive(key) {\n",
              "        const element = document.querySelector('#df-0247e750-08d3-4ec4-a612-8e10dee314de');\n",
              "        const dataTable =\n",
              "          await google.colab.kernel.invokeFunction('convertToInteractive',\n",
              "                                                    [key], {});\n",
              "        if (!dataTable) return;\n",
              "\n",
              "        const docLinkHtml = 'Like what you see? Visit the ' +\n",
              "          '<a target=\"_blank\" href=https://colab.research.google.com/notebooks/data_table.ipynb>data table notebook</a>'\n",
              "          + ' to learn more about interactive tables.';\n",
              "        element.innerHTML = '';\n",
              "        dataTable['output_type'] = 'display_data';\n",
              "        await google.colab.output.renderOutput(dataTable, element);\n",
              "        const docLink = document.createElement('div');\n",
              "        docLink.innerHTML = docLinkHtml;\n",
              "        element.appendChild(docLink);\n",
              "      }\n",
              "    </script>\n",
              "  </div>\n",
              "\n",
              "\n",
              "<div id=\"df-e718201c-aaac-43b0-8f60-19e1e129edde\">\n",
              "  <button class=\"colab-df-quickchart\" onclick=\"quickchart('df-e718201c-aaac-43b0-8f60-19e1e129edde')\"\n",
              "            title=\"Suggest charts\"\n",
              "            style=\"display:none;\">\n",
              "\n",
              "<svg xmlns=\"http://www.w3.org/2000/svg\" height=\"24px\"viewBox=\"0 0 24 24\"\n",
              "     width=\"24px\">\n",
              "    <g>\n",
              "        <path d=\"M19 3H5c-1.1 0-2 .9-2 2v14c0 1.1.9 2 2 2h14c1.1 0 2-.9 2-2V5c0-1.1-.9-2-2-2zM9 17H7v-7h2v7zm4 0h-2V7h2v10zm4 0h-2v-4h2v4z\"/>\n",
              "    </g>\n",
              "</svg>\n",
              "  </button>\n",
              "\n",
              "<style>\n",
              "  .colab-df-quickchart {\n",
              "      --bg-color: #E8F0FE;\n",
              "      --fill-color: #1967D2;\n",
              "      --hover-bg-color: #E2EBFA;\n",
              "      --hover-fill-color: #174EA6;\n",
              "      --disabled-fill-color: #AAA;\n",
              "      --disabled-bg-color: #DDD;\n",
              "  }\n",
              "\n",
              "  [theme=dark] .colab-df-quickchart {\n",
              "      --bg-color: #3B4455;\n",
              "      --fill-color: #D2E3FC;\n",
              "      --hover-bg-color: #434B5C;\n",
              "      --hover-fill-color: #FFFFFF;\n",
              "      --disabled-bg-color: #3B4455;\n",
              "      --disabled-fill-color: #666;\n",
              "  }\n",
              "\n",
              "  .colab-df-quickchart {\n",
              "    background-color: var(--bg-color);\n",
              "    border: none;\n",
              "    border-radius: 50%;\n",
              "    cursor: pointer;\n",
              "    display: none;\n",
              "    fill: var(--fill-color);\n",
              "    height: 32px;\n",
              "    padding: 0;\n",
              "    width: 32px;\n",
              "  }\n",
              "\n",
              "  .colab-df-quickchart:hover {\n",
              "    background-color: var(--hover-bg-color);\n",
              "    box-shadow: 0 1px 2px rgba(60, 64, 67, 0.3), 0 1px 3px 1px rgba(60, 64, 67, 0.15);\n",
              "    fill: var(--button-hover-fill-color);\n",
              "  }\n",
              "\n",
              "  .colab-df-quickchart-complete:disabled,\n",
              "  .colab-df-quickchart-complete:disabled:hover {\n",
              "    background-color: var(--disabled-bg-color);\n",
              "    fill: var(--disabled-fill-color);\n",
              "    box-shadow: none;\n",
              "  }\n",
              "\n",
              "  .colab-df-spinner {\n",
              "    border: 2px solid var(--fill-color);\n",
              "    border-color: transparent;\n",
              "    border-bottom-color: var(--fill-color);\n",
              "    animation:\n",
              "      spin 1s steps(1) infinite;\n",
              "  }\n",
              "\n",
              "  @keyframes spin {\n",
              "    0% {\n",
              "      border-color: transparent;\n",
              "      border-bottom-color: var(--fill-color);\n",
              "      border-left-color: var(--fill-color);\n",
              "    }\n",
              "    20% {\n",
              "      border-color: transparent;\n",
              "      border-left-color: var(--fill-color);\n",
              "      border-top-color: var(--fill-color);\n",
              "    }\n",
              "    30% {\n",
              "      border-color: transparent;\n",
              "      border-left-color: var(--fill-color);\n",
              "      border-top-color: var(--fill-color);\n",
              "      border-right-color: var(--fill-color);\n",
              "    }\n",
              "    40% {\n",
              "      border-color: transparent;\n",
              "      border-right-color: var(--fill-color);\n",
              "      border-top-color: var(--fill-color);\n",
              "    }\n",
              "    60% {\n",
              "      border-color: transparent;\n",
              "      border-right-color: var(--fill-color);\n",
              "    }\n",
              "    80% {\n",
              "      border-color: transparent;\n",
              "      border-right-color: var(--fill-color);\n",
              "      border-bottom-color: var(--fill-color);\n",
              "    }\n",
              "    90% {\n",
              "      border-color: transparent;\n",
              "      border-bottom-color: var(--fill-color);\n",
              "    }\n",
              "  }\n",
              "</style>\n",
              "\n",
              "  <script>\n",
              "    async function quickchart(key) {\n",
              "      const quickchartButtonEl =\n",
              "        document.querySelector('#' + key + ' button');\n",
              "      quickchartButtonEl.disabled = true;  // To prevent multiple clicks.\n",
              "      quickchartButtonEl.classList.add('colab-df-spinner');\n",
              "      try {\n",
              "        const charts = await google.colab.kernel.invokeFunction(\n",
              "            'suggestCharts', [key], {});\n",
              "      } catch (error) {\n",
              "        console.error('Error during call to suggestCharts:', error);\n",
              "      }\n",
              "      quickchartButtonEl.classList.remove('colab-df-spinner');\n",
              "      quickchartButtonEl.classList.add('colab-df-quickchart-complete');\n",
              "    }\n",
              "    (() => {\n",
              "      let quickchartButtonEl =\n",
              "        document.querySelector('#df-e718201c-aaac-43b0-8f60-19e1e129edde button');\n",
              "      quickchartButtonEl.style.display =\n",
              "        google.colab.kernel.accessAllowed ? 'block' : 'none';\n",
              "    })();\n",
              "  </script>\n",
              "</div>\n",
              "\n",
              "    </div>\n",
              "  </div>\n"
            ],
            "application/vnd.google.colaboratory.intrinsic+json": {
              "type": "dataframe",
              "summary": "{\n  \"name\": \"pd\",\n  \"rows\": 8,\n  \"fields\": [\n    {\n      \"column\": 0,\n      \"properties\": {\n        \"dtype\": \"number\",\n        \"std\": 11254.263108507661,\n        \"min\": 100.0,\n        \"max\": 25193.827249892725,\n        \"num_unique_values\": 8,\n        \"samples\": [\n          25092.753796756948,\n          25138.72820260264,\n          100.0\n        ],\n        \"semantic_type\": \"\",\n        \"description\": \"\"\n      }\n    }\n  ]\n}"
            }
          },
          "metadata": {},
          "execution_count": 34
        }
      ]
    },
    {
      "cell_type": "markdown",
      "metadata": {
        "id": "Jdusuj-NhGIM"
      },
      "source": [
        "**Ejercicio**: Repetir el mismo procedimiento (método Jackenife) de detectar los outliers pero con la mediana en lugar de con la media: ¿Qué ocurre? ¿observas variaciones?"
      ]
    },
    {
      "cell_type": "code",
      "source": [
        "# Método Jackknife con la mediana\n",
        "phi = np.zeros(len(datos))  # Inicializamos el array phi con ceros\n",
        "\n",
        "# Bucle para aplicar el método Jackknife y calcular la mediana sin el dato i\n",
        "for i in range(len(datos)):\n",
        "    datos_aux = datos\n",
        "    datos_sin_i = np.delete(datos_aux, i)  # Excluimos el dato en la posición i\n",
        "    phi[i] = np.median(datos_sin_i)  # Calculamos la mediana sin el dato i\n",
        "\n",
        "# Mostramos las medianas obtenidas\n",
        "print(\"Valores de phi (mediana sin el dato i):\")\n",
        "print(phi)\n",
        "\n",
        "# Aplicamos el método de la distancia entre cuartiles (IQR)\n",
        "Q1 = np.quantile(phi, 0.25)\n",
        "Q3 = np.quantile(phi, 0.75)\n",
        "IQR = Q3 - Q1\n",
        "xL = Q1 - 1.5 * IQR  # Límite inferior\n",
        "xU = Q3 + 1.5 * IQR  # Límite superior\n",
        "\n",
        "# Detectamos los outliers según los valores de phi (medianas sin un dato)\n",
        "print(\"\\nDetección de outliers basados en Jackknife y mediana:\")\n",
        "for i in range(len(datos)):\n",
        "    if phi[i] < xL or phi[i] > xU:\n",
        "        print(f\"El dato {i} es una observación influyente para la mediana\")\n"
      ],
      "metadata": {
        "colab": {
          "base_uri": "https://localhost:8080/"
        },
        "id": "cRETO3Lfxs0w",
        "outputId": "6d1326bc-eade-4ae1-acad-45a099465e88"
      },
      "execution_count": null,
      "outputs": [
        {
          "output_type": "stream",
          "name": "stdout",
          "text": [
            "Valores de phi (mediana sin el dato i):\n",
            "[20555.32841676 20555.32841676 20555.32841676 20555.32841676\n",
            " 20555.32841676 20555.32841676 20555.32841676 20555.32841676\n",
            " 20555.32841676 20555.32841676 20555.32841676 20555.32841676\n",
            " 20555.32841676 20555.32841676 20555.32841676 20555.32841676\n",
            " 20555.32841676 20555.32841676 20555.32841676 20555.32841676\n",
            " 20555.32841676 20555.32841676 20555.32841676 20555.32841676\n",
            " 20555.32841676 20555.32841676 20555.32841676 20555.32841676\n",
            " 20555.32841676 20555.32841676 20555.32841676 20555.32841676\n",
            " 20555.32841676 20555.32841676 20555.32841676 20555.32841676\n",
            " 20555.32841676 20555.32841676 20555.32841676 20555.32841676\n",
            " 20555.32841676 20555.32841676 20555.32841676 20555.32841676\n",
            " 20555.32841676 20555.32841676 20555.32841676 20555.32841676\n",
            " 20555.32841676 20555.32841676 20527.24681931 20527.24681931\n",
            " 20527.24681931 20527.24681931 20527.24681931 20527.24681931\n",
            " 20527.24681931 20527.24681931 20527.24681931 20527.24681931\n",
            " 20527.24681931 20527.24681931 20527.24681931 20527.24681931\n",
            " 20527.24681931 20527.24681931 20527.24681931 20527.24681931\n",
            " 20527.24681931 20527.24681931 20527.24681931 20527.24681931\n",
            " 20527.24681931 20527.24681931 20527.24681931 20527.24681931\n",
            " 20527.24681931 20527.24681931 20527.24681931 20527.24681931\n",
            " 20527.24681931 20527.24681931 20527.24681931 20527.24681931\n",
            " 20527.24681931 20527.24681931 20527.24681931 20527.24681931\n",
            " 20527.24681931 20527.24681931 20527.24681931 20527.24681931\n",
            " 20527.24681931 20527.24681931 20527.24681931 20527.24681931\n",
            " 20527.24681931 20527.24681931 20527.24681931 20527.24681931]\n",
            "\n",
            "Detección de outliers basados en Jackknife y mediana:\n",
            "\n",
            "Resumen estadístico de phi (medianas sin cada dato):\n",
            "                  0\n",
            "count    100.000000\n",
            "mean   20541.287618\n",
            "std       14.111534\n",
            "min    20527.246819\n",
            "25%    20527.246819\n",
            "50%    20541.287618\n",
            "75%    20555.328417\n",
            "max    20555.328417\n"
          ]
        }
      ]
    },
    {
      "cell_type": "code",
      "source": [
        "# Resumen estadístico de phi\n",
        "print(\"\\nResumen estadístico de phi (medianas sin cada dato):\")\n",
        "print(pd.DataFrame(phi).describe())"
      ],
      "metadata": {
        "colab": {
          "base_uri": "https://localhost:8080/"
        },
        "id": "ef_xaj0YynKX",
        "outputId": "877b0095-1d8c-4a40-d27f-51b385f00806"
      },
      "execution_count": null,
      "outputs": [
        {
          "output_type": "stream",
          "name": "stdout",
          "text": [
            "\n",
            "Resumen estadístico de phi (medianas sin cada dato):\n",
            "                  0\n",
            "count    100.000000\n",
            "mean   20541.287618\n",
            "std       14.111534\n",
            "min    20527.246819\n",
            "25%    20527.246819\n",
            "50%    20541.287618\n",
            "75%    20555.328417\n",
            "max    20555.328417\n"
          ]
        }
      ]
    },
    {
      "cell_type": "markdown",
      "source": [
        "Cuando aplicamos el método Jackknife para detectar outliers con la mediana en lugar de la media, las variaciones que se observan generalmente están relacionadas con la sensibilidad del método a los valores extremos. Aquí te explico lo que ocurre y por qué podría haber variaciones:\n",
        "\n",
        "1. Diferencia de sensibilidad entre la media y la mediana:\n",
        "La media es muy sensible a los valores extremos. Si hay outliers grandes o pequeños, estos pueden afectar significativamente el valor de la media. Esto es lo que ocurre cuando usamos la media en el método Jackknife: la exclusión de un dato con un valor extremo cambia la media de forma más notable.\n",
        "\n",
        "La mediana, por otro lado, es mucho más robusta frente a los valores extremos. Dado que la mediana es el valor central de un conjunto de datos (cuando están ordenados), cambiar un dato que esté muy por encima o por debajo de la mediana no afectará tanto al valor resultante. Esto significa que, cuando utilizamos la mediana, es menos probable que detectemos ciertos outliers porque la mediana es menos sensible a ellos.\n",
        "\n",
        "2. ¿Qué ocurre al aplicar el método Jackknife con la mediana?:\n",
        "Al excluir un dato, al calcular la mediana de los demás datos, la mediana no cambia tanto si el dato excluido es un valor extremo. Esto podría hacer que menos datos se consideren outliers en comparación con cuando se usa la media.\n",
        "Outliers detectados: Si un dato tiene un valor muy alto o muy bajo, su impacto en la mediana será menor. Por lo tanto, es posible que menos observaciones sean identificadas como outliers al usar la mediana, ya que la mediana no es tan afectada por valores atípicos como la media.\n",
        "3. Variaciones observadas:\n",
        "Menos sensibilidad a los extremos: Cuando la media se usa en lugar de la mediana, los valores extremos tienen un impacto mayor. Es probable que la media sea más alta o más baja si hay algunos valores muy grandes o muy pequeños, lo que puede hacer que esos valores sean identificados como outliers. Usando la mediana, este efecto se reduce, y es posible que esos mismos valores no sean considerados outliers.\n",
        "\n",
        "Efecto de la mediana: Si usas la mediana en lugar de la media, es probable que se detecten menos outliers, ya que la mediana no se ve tan afectada por los datos extremos.\n",
        "\n",
        "4. Ejemplo con el método Jackknife y mediana:\n",
        "Si aplicas el procedimiento Jackknife para excluir un dato y calcular la mediana, el efecto de un valor muy bajo o muy alto será menos notable en comparación con la media.\n",
        "En otras palabras, el índice de outliers podría reducirse al usar la mediana debido a que la mediana es mucho más resistente a los datos extremos que la media.\n",
        "Conclusión:\n",
        "Variaciones observadas: Cuando utilizas la mediana en el método Jackknife, es probable que haya menos variación en los resultados en comparación con el uso de la media. Esto se debe a la robustez de la mediana frente a los outliers. La mediana no se ve afectada tanto por los valores extremos, lo que puede llevar a una detección menos agresiva de outliers. En cambio, la media es mucho más sensible a esos valores extremos, lo que puede hacer que más observaciones sean consideradas outliers cuando se usa la media en lugar de la mediana.\n",
        "\n",
        "\n",
        "\n"
      ],
      "metadata": {
        "id": "r8ABJsSxyiEI"
      }
    }
  ]
}